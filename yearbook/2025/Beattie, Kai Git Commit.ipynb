{
 "cells": [
  {
   "cell_type": "markdown",
   "id": "9ede5c53-224c-4587-bd13-d0bc8f1bd4b0",
   "metadata": {},
   "source": [
    "### Here is my new Jupyter Notebook (Kai Beattie)"
   ]
  },
  {
   "cell_type": "markdown",
   "id": "c86aee45-701d-4b33-8663-a3c04636a8f9",
   "metadata": {},
   "source": [
    "**Here we will practice commiting to a Github repo**"
   ]
  },
  {
   "cell_type": "markdown",
   "id": "5423a1d5-1c90-4488-afaf-a0595fd4e629",
   "metadata": {},
   "source": [
    "# As well as text <sub>styling</sub> such as this"
   ]
  },
  {
   "cell_type": "markdown",
   "id": "9da18ec9-7a23-4b74-8834-7968efee0118",
   "metadata": {},
   "source": [
    "## Now we are <ins>finished</ins>"
   ]
  },
  {
   "cell_type": "code",
   "execution_count": null,
   "id": "f817f0e3-2467-41bb-ad2d-7c36a210a8df",
   "metadata": {},
   "outputs": [],
   "source": []
  }
 ],
 "metadata": {
  "kernelspec": {
   "display_name": "Python [conda env:base] *",
   "language": "python",
   "name": "conda-base-py"
  },
  "language_info": {
   "codemirror_mode": {
    "name": "ipython",
    "version": 3
   },
   "file_extension": ".py",
   "mimetype": "text/x-python",
   "name": "python",
   "nbconvert_exporter": "python",
   "pygments_lexer": "ipython3",
   "version": "3.13.5"
  }
 },
 "nbformat": 4,
 "nbformat_minor": 5
}
